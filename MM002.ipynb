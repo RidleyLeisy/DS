{
 "cells": [
  {
   "cell_type": "code",
   "execution_count": 2,
   "metadata": {},
   "outputs": [],
   "source": [
    "import pandas as pd\n",
    "pd.options.display.max_rows = 999\n",
    "pd.options.display.max_columns = 999"
   ]
  },
  {
   "cell_type": "code",
   "execution_count": 47,
   "metadata": {},
   "outputs": [],
   "source": [
    "m1 = pd.read_csv('MM Data - MM Volunteers.csv')\n",
    "m2 = pd.read_csv('MM Data - 6_17_19 backup.csv')\n",
    "m3 = pd.read_csv('MM Data - Copy of MM Volunteers + Donors.csv')\n",
    "m4 = pd.read_csv('MM Data - All Donors (as of 1_21_18).csv')\n",
    "m5 = pd.read_csv('MM Data - Partners only.csv')\n",
    "m6 = pd.read_csv('MM Data - SF Meal Programs.csv')\n",
    "m7 = pd.read_csv('MM Data - Backup (6_16_18).csv')\n",
    "m1 = m1.drop_duplicates(subset=['Email address'])\n",
    "m2 = m2.drop_duplicates(subset=['Email address'])\n",
    "m3 = m3.drop_duplicates(subset=['Email address'])\n",
    "m4 = m4.drop_duplicates(subset=['Email'])\n",
    "m5 = m5.drop_duplicates(subset=['Email address'])\n",
    "m7 = m7.drop_duplicates(subset=['Email address'])"
   ]
  },
  {
   "cell_type": "code",
   "execution_count": 48,
   "metadata": {},
   "outputs": [
    {
     "data": {
      "text/plain": [
       "((7083, 24), (7030, 24), (7029, 47))"
      ]
     },
     "execution_count": 48,
     "metadata": {},
     "output_type": "execute_result"
    }
   ],
   "source": [
    "m1_m2 = pd.merge(m2, m1, on='Email address', how='inner')\n",
    "m1.shape, m2.shape, m1_m2.shape"
   ]
  },
  {
   "cell_type": "code",
   "execution_count": 49,
   "metadata": {},
   "outputs": [
    {
     "data": {
      "text/plain": [
       "((7083, 24), (6546, 24), (6488, 47))"
      ]
     },
     "execution_count": 49,
     "metadata": {},
     "output_type": "execute_result"
    }
   ],
   "source": [
    "m1_m3 = pd.merge(m3, m1, on='Email address', how='inner')\n",
    "m1.shape, m3.shape, m1_m3.shape"
   ]
  },
  {
   "cell_type": "code",
   "execution_count": 50,
   "metadata": {},
   "outputs": [
    {
     "data": {
      "text/plain": [
       "((7083, 24), (853, 19), (650, 43))"
      ]
     },
     "execution_count": 50,
     "metadata": {},
     "output_type": "execute_result"
    }
   ],
   "source": [
    "m1_m4 = pd.merge(m4, m1, left_on='Email', right_on='Email address', how='inner')\n",
    "m1.shape, m4.shape, m1_m4.shape"
   ]
  },
  {
   "cell_type": "code",
   "execution_count": 51,
   "metadata": {},
   "outputs": [
    {
     "data": {
      "text/plain": [
       "((7083, 24), (689, 26), (688, 49))"
      ]
     },
     "execution_count": 51,
     "metadata": {},
     "output_type": "execute_result"
    }
   ],
   "source": [
    "m1_m5 = pd.merge(m5, m1, on='Email address', how='inner')\n",
    "m1.shape, m5.shape, m1_m5.shape"
   ]
  },
  {
   "cell_type": "code",
   "execution_count": 52,
   "metadata": {},
   "outputs": [
    {
     "data": {
      "text/plain": [
       "((7083, 24), (6311, 23), (6311, 46))"
      ]
     },
     "execution_count": 52,
     "metadata": {},
     "output_type": "execute_result"
    }
   ],
   "source": [
    "m1_m7 = pd.merge(m7, m1, on='Email address', how='inner')\n",
    "m1.shape, m7.shape, m1_m7.shape"
   ]
  },
  {
   "cell_type": "code",
   "execution_count": 53,
   "metadata": {},
   "outputs": [
    {
     "data": {
      "text/plain": [
       "((7030, 24), (6546, 24), (6488, 47))"
      ]
     },
     "execution_count": 53,
     "metadata": {},
     "output_type": "execute_result"
    }
   ],
   "source": [
    "m2_m3 = pd.merge(m3, m2, on='Email address', how='inner')\n",
    "m2.shape, m3.shape, m2_m3.shape"
   ]
  },
  {
   "cell_type": "code",
   "execution_count": 54,
   "metadata": {},
   "outputs": [
    {
     "data": {
      "text/plain": [
       "((7030, 24), (853, 19), (650, 43))"
      ]
     },
     "execution_count": 54,
     "metadata": {},
     "output_type": "execute_result"
    }
   ],
   "source": [
    "m2_m4 = pd.merge(m4, m2, left_on='Email', right_on='Email address', how='inner')\n",
    "m2.shape, m4.shape, m2_m4.shape"
   ]
  },
  {
   "cell_type": "code",
   "execution_count": 55,
   "metadata": {},
   "outputs": [
    {
     "data": {
      "text/plain": [
       "((7030, 24), (689, 26), (688, 49))"
      ]
     },
     "execution_count": 55,
     "metadata": {},
     "output_type": "execute_result"
    }
   ],
   "source": [
    "m2_m5 = pd.merge(m5, m2, on='Email address', how='inner')\n",
    "m2.shape, m5.shape, m2_m5.shape"
   ]
  },
  {
   "cell_type": "code",
   "execution_count": 56,
   "metadata": {},
   "outputs": [
    {
     "data": {
      "text/plain": [
       "((7030, 24), (6311, 23), (6311, 46))"
      ]
     },
     "execution_count": 56,
     "metadata": {},
     "output_type": "execute_result"
    }
   ],
   "source": [
    "m2_m7 = pd.merge(m7, m2, on='Email address', how='inner')\n",
    "m2.shape, m7.shape, m2_m7.shape"
   ]
  },
  {
   "cell_type": "code",
   "execution_count": 57,
   "metadata": {},
   "outputs": [
    {
     "data": {
      "text/plain": [
       "((6546, 24), (853, 19), (651, 43))"
      ]
     },
     "execution_count": 57,
     "metadata": {},
     "output_type": "execute_result"
    }
   ],
   "source": [
    "m3_m4 = pd.merge(m4, m3, left_on='Email', right_on='Email address', how='inner')\n",
    "m3.shape, m4.shape, m3_m4.shape"
   ]
  },
  {
   "cell_type": "code",
   "execution_count": 58,
   "metadata": {},
   "outputs": [
    {
     "data": {
      "text/plain": [
       "((6546, 24), (689, 26), (689, 49))"
      ]
     },
     "execution_count": 58,
     "metadata": {},
     "output_type": "execute_result"
    }
   ],
   "source": [
    "m3_m5 = pd.merge(m5, m3, on='Email address', how='inner')\n",
    "m3.shape, m5.shape, m3_m5.shape"
   ]
  },
  {
   "cell_type": "code",
   "execution_count": 59,
   "metadata": {},
   "outputs": [
    {
     "data": {
      "text/plain": [
       "((6546, 24), (6311, 23), (6311, 46))"
      ]
     },
     "execution_count": 59,
     "metadata": {},
     "output_type": "execute_result"
    }
   ],
   "source": [
    "m3_m7 = pd.merge(m7, m3, on='Email address', how='inner')\n",
    "m3.shape, m7.shape, m3_m7.shape"
   ]
  },
  {
   "cell_type": "code",
   "execution_count": 65,
   "metadata": {},
   "outputs": [
    {
     "data": {
      "text/plain": [
       "((853, 19), (689, 26), (7, 45))"
      ]
     },
     "execution_count": 65,
     "metadata": {},
     "output_type": "execute_result"
    }
   ],
   "source": [
    "m4_m5 = pd.merge(m5, m4, left_on='Email address', right_on='Email', how='inner')\n",
    "m4.shape, m5.shape, m4_m5.shape"
   ]
  },
  {
   "cell_type": "code",
   "execution_count": 64,
   "metadata": {},
   "outputs": [
    {
     "data": {
      "text/plain": [
       "((853, 19), (6311, 23), (650, 42))"
      ]
     },
     "execution_count": 64,
     "metadata": {},
     "output_type": "execute_result"
    }
   ],
   "source": [
    "m4_m7 = pd.merge(m7, m4, left_on='Email address', right_on='Email', how='inner')\n",
    "m4.shape, m7.shape, m4_m7.shape"
   ]
  },
  {
   "cell_type": "code",
   "execution_count": 62,
   "metadata": {},
   "outputs": [
    {
     "data": {
      "text/plain": [
       "((689, 26), (6311, 23), (688, 48))"
      ]
     },
     "execution_count": 62,
     "metadata": {},
     "output_type": "execute_result"
    }
   ],
   "source": [
    "m5_m7 = pd.merge(m7, m5, on='Email address', how='inner')\n",
    "m5.shape, m7.shape, m5_m7.shape"
   ]
  },
  {
   "cell_type": "code",
   "execution_count": 63,
   "metadata": {},
   "outputs": [
    {
     "data": {
      "text/plain": [
       "(23, 7)"
      ]
     },
     "execution_count": 63,
     "metadata": {},
     "output_type": "execute_result"
    }
   ],
   "source": [
    "m6.shape"
   ]
  },
  {
   "cell_type": "code",
   "execution_count": null,
   "metadata": {},
   "outputs": [],
   "source": []
  },
  {
   "cell_type": "code",
   "execution_count": null,
   "metadata": {},
   "outputs": [],
   "source": []
  }
 ],
 "metadata": {
  "kernelspec": {
   "display_name": "Python 3",
   "language": "python",
   "name": "python3"
  },
  "language_info": {
   "codemirror_mode": {
    "name": "ipython",
    "version": 3
   },
   "file_extension": ".py",
   "mimetype": "text/x-python",
   "name": "python",
   "nbconvert_exporter": "python",
   "pygments_lexer": "ipython3",
   "version": "3.7.3"
  }
 },
 "nbformat": 4,
 "nbformat_minor": 2
}
